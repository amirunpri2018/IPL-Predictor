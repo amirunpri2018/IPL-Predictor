{
 "cells": [
  {
   "cell_type": "code",
   "execution_count": 0,
   "metadata": {
    "colab": {},
    "colab_type": "code",
    "id": "Gmmt0cLmN6n1"
   },
   "outputs": [],
   "source": [
    "import pandas as pd\n",
    "import numpy as np"
   ]
  },
  {
   "cell_type": "code",
   "execution_count": 2,
   "metadata": {
    "colab": {
     "base_uri": "https://localhost:8080/",
     "height": 34
    },
    "colab_type": "code",
    "executionInfo": {
     "elapsed": 3390,
     "status": "ok",
     "timestamp": 1585409612340,
     "user": {
      "displayName": "Sai Krishna Mendu",
      "photoUrl": "https://lh3.googleusercontent.com/a-/AOh14GjqF3FT8ynrVqiqUo6NozBvQ0dx-_Ym9X6vVD67BA=s64",
      "userId": "16653332979938855669"
     },
     "user_tz": -330
    },
    "id": "lufkySZZN_Yc",
    "outputId": "01a95122-272f-4112-ae89-828bed9eb96f"
   },
   "outputs": [
    {
     "name": "stdout",
     "output_type": "stream",
     "text": [
      "Drive already mounted at /content/drive; to attempt to forcibly remount, call drive.mount(\"/content/drive\", force_remount=True).\n"
     ]
    }
   ],
   "source": [
    "from google.colab import drive\n",
    "drive.mount('/content/drive')"
   ]
  },
  {
   "cell_type": "code",
   "execution_count": 0,
   "metadata": {
    "colab": {},
    "colab_type": "code",
    "id": "KwzOzxWOQcPb"
   },
   "outputs": [],
   "source": [
    "final=pd.read_csv('/content/drive/My Drive/final_dataset.csv')"
   ]
  },
  {
   "cell_type": "code",
   "execution_count": 40,
   "metadata": {
    "colab": {
     "base_uri": "https://localhost:8080/",
     "height": 222
    },
    "colab_type": "code",
    "executionInfo": {
     "elapsed": 5277,
     "status": "ok",
     "timestamp": 1585411032247,
     "user": {
      "displayName": "Sai Krishna Mendu",
      "photoUrl": "https://lh3.googleusercontent.com/a-/AOh14GjqF3FT8ynrVqiqUo6NozBvQ0dx-_Ym9X6vVD67BA=s64",
      "userId": "16653332979938855669"
     },
     "user_tz": -330
    },
    "id": "L9b0HfNNQ-tu",
    "outputId": "ca33390b-fbe2-4589-f250-68617438b70b"
   },
   "outputs": [
    {
     "data": {
      "text/html": [
       "<div>\n",
       "<style scoped>\n",
       "    .dataframe tbody tr th:only-of-type {\n",
       "        vertical-align: middle;\n",
       "    }\n",
       "\n",
       "    .dataframe tbody tr th {\n",
       "        vertical-align: top;\n",
       "    }\n",
       "\n",
       "    .dataframe thead th {\n",
       "        text-align: right;\n",
       "    }\n",
       "</style>\n",
       "<table border=\"1\" class=\"dataframe\">\n",
       "  <thead>\n",
       "    <tr style=\"text-align: right;\">\n",
       "      <th></th>\n",
       "      <th>Unnamed: 0</th>\n",
       "      <th>Season_Year</th>\n",
       "      <th>day</th>\n",
       "      <th>month</th>\n",
       "      <th>winner</th>\n",
       "      <th>Chennai Super Kings:Delhi Daredevils</th>\n",
       "      <th>Chennai Super Kings:Kings XI Punjab</th>\n",
       "      <th>Chennai Super Kings:Kolkata Knight Riders</th>\n",
       "      <th>Chennai Super Kings:Mumbai Indians</th>\n",
       "      <th>Chennai Super Kings:Rajasthan Royals</th>\n",
       "      <th>Chennai Super Kings:Royal Challengers Bangalore</th>\n",
       "      <th>Chennai Super Kings:Sunrisers Hyderabad</th>\n",
       "      <th>Delhi Daredevils:Chennai Super Kings</th>\n",
       "      <th>Delhi Daredevils:Kings XI Punjab</th>\n",
       "      <th>Delhi Daredevils:Kolkata Knight Riders</th>\n",
       "      <th>Delhi Daredevils:Mumbai Indians</th>\n",
       "      <th>Delhi Daredevils:Rajasthan Royals</th>\n",
       "      <th>Delhi Daredevils:Royal Challengers Bangalore</th>\n",
       "      <th>Delhi Daredevils:Sunrisers Hyderabad</th>\n",
       "      <th>Kings XI Punjab:Chennai Super Kings</th>\n",
       "      <th>Kings XI Punjab:Delhi Daredevils</th>\n",
       "      <th>Kings XI Punjab:Kolkata Knight Riders</th>\n",
       "      <th>Kings XI Punjab:Mumbai Indians</th>\n",
       "      <th>Kings XI Punjab:Rajasthan Royals</th>\n",
       "      <th>Kings XI Punjab:Royal Challengers Bangalore</th>\n",
       "      <th>Kings XI Punjab:Sunrisers Hyderabad</th>\n",
       "      <th>Kolkata Knight Riders:Chennai Super Kings</th>\n",
       "      <th>Kolkata Knight Riders:Delhi Daredevils</th>\n",
       "      <th>Kolkata Knight Riders:Kings XI Punjab</th>\n",
       "      <th>Kolkata Knight Riders:Mumbai Indians</th>\n",
       "      <th>Kolkata Knight Riders:Rajasthan Royals</th>\n",
       "      <th>Kolkata Knight Riders:Royal Challengers Bangalore</th>\n",
       "      <th>Kolkata Knight Riders:Sunrisers Hyderabad</th>\n",
       "      <th>Mumbai Indians:Chennai Super Kings</th>\n",
       "      <th>Mumbai Indians:Delhi Daredevils</th>\n",
       "      <th>Mumbai Indians:Kings XI Punjab</th>\n",
       "      <th>Mumbai Indians:Kolkata Knight Riders</th>\n",
       "      <th>Mumbai Indians:Rajasthan Royals</th>\n",
       "      <th>Mumbai Indians:Royal Challengers Bangalore</th>\n",
       "      <th>Mumbai Indians:Sunrisers Hyderabad</th>\n",
       "      <th>...</th>\n",
       "      <th>m</th>\n",
       "      <th>n</th>\n",
       "      <th>o</th>\n",
       "      <th>p</th>\n",
       "      <th>q</th>\n",
       "      <th>r</th>\n",
       "      <th>s</th>\n",
       "      <th>t</th>\n",
       "      <th>u</th>\n",
       "      <th>v</th>\n",
       "      <th>Abu Dhabi</th>\n",
       "      <th>Ahmedabad</th>\n",
       "      <th>Bengaluru</th>\n",
       "      <th>Bloemfontein</th>\n",
       "      <th>Cape Town</th>\n",
       "      <th>Centurion</th>\n",
       "      <th>Chandigarh</th>\n",
       "      <th>Chennai</th>\n",
       "      <th>Cuttack</th>\n",
       "      <th>Delhi</th>\n",
       "      <th>Dharamsala</th>\n",
       "      <th>Durban</th>\n",
       "      <th>East London</th>\n",
       "      <th>Hyderabad</th>\n",
       "      <th>Indore</th>\n",
       "      <th>Jaipur</th>\n",
       "      <th>Johannesburg</th>\n",
       "      <th>Kanpur</th>\n",
       "      <th>Kimberley</th>\n",
       "      <th>Kochi</th>\n",
       "      <th>Kolkata</th>\n",
       "      <th>Mohali</th>\n",
       "      <th>Mumbai</th>\n",
       "      <th>Nagpur</th>\n",
       "      <th>Port Elizabeth</th>\n",
       "      <th>Pune</th>\n",
       "      <th>Raipur</th>\n",
       "      <th>Rajkot</th>\n",
       "      <th>Ranchi</th>\n",
       "      <th>Visakhapatnam</th>\n",
       "    </tr>\n",
       "  </thead>\n",
       "  <tbody>\n",
       "    <tr>\n",
       "      <th>0</th>\n",
       "      <td>0</td>\n",
       "      <td>2008.0</td>\n",
       "      <td>18.0</td>\n",
       "      <td>4.0</td>\n",
       "      <td>0.0</td>\n",
       "      <td>0.0</td>\n",
       "      <td>0.0</td>\n",
       "      <td>0.0</td>\n",
       "      <td>0.0</td>\n",
       "      <td>0.0</td>\n",
       "      <td>0.0</td>\n",
       "      <td>0.0</td>\n",
       "      <td>0.0</td>\n",
       "      <td>0.0</td>\n",
       "      <td>0.0</td>\n",
       "      <td>0.0</td>\n",
       "      <td>0.0</td>\n",
       "      <td>0.0</td>\n",
       "      <td>0.0</td>\n",
       "      <td>0.0</td>\n",
       "      <td>0.0</td>\n",
       "      <td>0.0</td>\n",
       "      <td>0.0</td>\n",
       "      <td>0.0</td>\n",
       "      <td>0.0</td>\n",
       "      <td>0.0</td>\n",
       "      <td>0.0</td>\n",
       "      <td>0.0</td>\n",
       "      <td>0.0</td>\n",
       "      <td>0.0</td>\n",
       "      <td>0.0</td>\n",
       "      <td>0.0</td>\n",
       "      <td>0.0</td>\n",
       "      <td>0.0</td>\n",
       "      <td>0.0</td>\n",
       "      <td>0.0</td>\n",
       "      <td>0.0</td>\n",
       "      <td>0.0</td>\n",
       "      <td>0.0</td>\n",
       "      <td>0.0</td>\n",
       "      <td>...</td>\n",
       "      <td>1.0</td>\n",
       "      <td>1.0</td>\n",
       "      <td>0.0</td>\n",
       "      <td>1.0</td>\n",
       "      <td>0.0</td>\n",
       "      <td>0.0</td>\n",
       "      <td>0.0</td>\n",
       "      <td>0.0</td>\n",
       "      <td>0.0</td>\n",
       "      <td>0.0</td>\n",
       "      <td>0</td>\n",
       "      <td>0</td>\n",
       "      <td>1</td>\n",
       "      <td>0</td>\n",
       "      <td>0</td>\n",
       "      <td>0</td>\n",
       "      <td>0</td>\n",
       "      <td>0</td>\n",
       "      <td>0</td>\n",
       "      <td>0</td>\n",
       "      <td>0</td>\n",
       "      <td>0</td>\n",
       "      <td>0</td>\n",
       "      <td>0</td>\n",
       "      <td>0</td>\n",
       "      <td>0</td>\n",
       "      <td>0</td>\n",
       "      <td>0</td>\n",
       "      <td>0</td>\n",
       "      <td>0</td>\n",
       "      <td>0</td>\n",
       "      <td>0</td>\n",
       "      <td>0</td>\n",
       "      <td>0</td>\n",
       "      <td>0</td>\n",
       "      <td>0</td>\n",
       "      <td>0</td>\n",
       "      <td>0</td>\n",
       "      <td>0</td>\n",
       "      <td>0</td>\n",
       "    </tr>\n",
       "    <tr>\n",
       "      <th>1</th>\n",
       "      <td>1</td>\n",
       "      <td>2008.0</td>\n",
       "      <td>19.0</td>\n",
       "      <td>4.0</td>\n",
       "      <td>0.0</td>\n",
       "      <td>0.0</td>\n",
       "      <td>0.0</td>\n",
       "      <td>0.0</td>\n",
       "      <td>0.0</td>\n",
       "      <td>0.0</td>\n",
       "      <td>0.0</td>\n",
       "      <td>0.0</td>\n",
       "      <td>0.0</td>\n",
       "      <td>0.0</td>\n",
       "      <td>0.0</td>\n",
       "      <td>0.0</td>\n",
       "      <td>0.0</td>\n",
       "      <td>0.0</td>\n",
       "      <td>0.0</td>\n",
       "      <td>1.0</td>\n",
       "      <td>0.0</td>\n",
       "      <td>0.0</td>\n",
       "      <td>0.0</td>\n",
       "      <td>0.0</td>\n",
       "      <td>0.0</td>\n",
       "      <td>0.0</td>\n",
       "      <td>0.0</td>\n",
       "      <td>0.0</td>\n",
       "      <td>0.0</td>\n",
       "      <td>0.0</td>\n",
       "      <td>0.0</td>\n",
       "      <td>0.0</td>\n",
       "      <td>0.0</td>\n",
       "      <td>0.0</td>\n",
       "      <td>0.0</td>\n",
       "      <td>0.0</td>\n",
       "      <td>0.0</td>\n",
       "      <td>0.0</td>\n",
       "      <td>0.0</td>\n",
       "      <td>0.0</td>\n",
       "      <td>...</td>\n",
       "      <td>0.0</td>\n",
       "      <td>1.0</td>\n",
       "      <td>1.0</td>\n",
       "      <td>0.0</td>\n",
       "      <td>1.0</td>\n",
       "      <td>0.0</td>\n",
       "      <td>0.0</td>\n",
       "      <td>0.0</td>\n",
       "      <td>0.0</td>\n",
       "      <td>0.0</td>\n",
       "      <td>0</td>\n",
       "      <td>0</td>\n",
       "      <td>0</td>\n",
       "      <td>0</td>\n",
       "      <td>0</td>\n",
       "      <td>0</td>\n",
       "      <td>1</td>\n",
       "      <td>0</td>\n",
       "      <td>0</td>\n",
       "      <td>0</td>\n",
       "      <td>0</td>\n",
       "      <td>0</td>\n",
       "      <td>0</td>\n",
       "      <td>0</td>\n",
       "      <td>0</td>\n",
       "      <td>0</td>\n",
       "      <td>0</td>\n",
       "      <td>0</td>\n",
       "      <td>0</td>\n",
       "      <td>0</td>\n",
       "      <td>0</td>\n",
       "      <td>0</td>\n",
       "      <td>0</td>\n",
       "      <td>0</td>\n",
       "      <td>0</td>\n",
       "      <td>0</td>\n",
       "      <td>0</td>\n",
       "      <td>0</td>\n",
       "      <td>0</td>\n",
       "      <td>0</td>\n",
       "    </tr>\n",
       "  </tbody>\n",
       "</table>\n",
       "<p>2 rows × 135 columns</p>\n",
       "</div>"
      ],
      "text/plain": [
       "   Unnamed: 0  Season_Year   day  month  ...  Raipur  Rajkot  Ranchi  Visakhapatnam\n",
       "0           0       2008.0  18.0    4.0  ...       0       0       0              0\n",
       "1           1       2008.0  19.0    4.0  ...       0       0       0              0\n",
       "\n",
       "[2 rows x 135 columns]"
      ]
     },
     "execution_count": 40,
     "metadata": {
      "tags": []
     },
     "output_type": "execute_result"
    }
   ],
   "source": [
    "final.head(2)"
   ]
  },
  {
   "cell_type": "code",
   "execution_count": 0,
   "metadata": {
    "colab": {},
    "colab_type": "code",
    "id": "yFcdth5NRNt4"
   },
   "outputs": [],
   "source": [
    "final.drop(columns=['Unnamed: 0'],inplace=True)"
   ]
  },
  {
   "cell_type": "code",
   "execution_count": 0,
   "metadata": {
    "colab": {},
    "colab_type": "code",
    "id": "LQ10Z_xXRSgv"
   },
   "outputs": [],
   "source": [
    "from sklearn.model_selection import train_test_split\n",
    "def datasplitter(data):\n",
    "    train_data, val_data = train_test_split(data, test_size = 0.2, random_state = 2)\n",
    "    y_train = train_data['winner'].values\n",
    "    y_val = val_data['winner'].values\n",
    "    x_train = train_data.drop(['winner'], axis = 1).values\n",
    "    x_val = val_data.drop(['winner'], axis = 1).values\n",
    "    return y_train,y_val,x_train,x_val\n",
    "\n",
    "\n",
    "y_train,y_val,x_train,x_val=datasplitter(final)\n"
   ]
  },
  {
   "cell_type": "code",
   "execution_count": 48,
   "metadata": {
    "colab": {
     "base_uri": "https://localhost:8080/",
     "height": 612
    },
    "colab_type": "code",
    "executionInfo": {
     "elapsed": 3522,
     "status": "ok",
     "timestamp": 1585411239870,
     "user": {
      "displayName": "Sai Krishna Mendu",
      "photoUrl": "https://lh3.googleusercontent.com/a-/AOh14GjqF3FT8ynrVqiqUo6NozBvQ0dx-_Ym9X6vVD67BA=s64",
      "userId": "16653332979938855669"
     },
     "user_tz": -330
    },
    "id": "84nL5NnFzVM2",
    "outputId": "dcb3becb-1e46-49cb-b3d8-990a6ed82a5b"
   },
   "outputs": [
    {
     "name": "stdout",
     "output_type": "stream",
     "text": [
      "Train on 415 samples, validate on 104 samples\n",
      "Epoch 1/17\n",
      "415/415 [==============================] - 1s 3ms/step - loss: 3.8442 - acc: 0.4819 - val_loss: 2.9195 - val_acc: 0.5288\n",
      "Epoch 2/17\n",
      "415/415 [==============================] - 0s 34us/step - loss: 1.7880 - acc: 0.5373 - val_loss: 1.4997 - val_acc: 0.4712\n",
      "Epoch 3/17\n",
      "415/415 [==============================] - 0s 31us/step - loss: 1.5196 - acc: 0.4916 - val_loss: 1.1821 - val_acc: 0.5288\n",
      "Epoch 4/17\n",
      "415/415 [==============================] - 0s 27us/step - loss: 1.1272 - acc: 0.4867 - val_loss: 0.6755 - val_acc: 0.5673\n",
      "Epoch 5/17\n",
      "415/415 [==============================] - 0s 28us/step - loss: 1.0039 - acc: 0.5494 - val_loss: 0.6946 - val_acc: 0.5673\n",
      "Epoch 6/17\n",
      "415/415 [==============================] - 0s 29us/step - loss: 0.9791 - acc: 0.4434 - val_loss: 0.9774 - val_acc: 0.5288\n",
      "Epoch 7/17\n",
      "415/415 [==============================] - 0s 26us/step - loss: 0.8876 - acc: 0.5060 - val_loss: 0.7548 - val_acc: 0.5288\n",
      "Epoch 8/17\n",
      "415/415 [==============================] - 0s 30us/step - loss: 0.8098 - acc: 0.5036 - val_loss: 0.7176 - val_acc: 0.5288\n",
      "Epoch 9/17\n",
      "415/415 [==============================] - 0s 31us/step - loss: 0.7691 - acc: 0.4940 - val_loss: 0.6913 - val_acc: 0.5385\n",
      "Epoch 10/17\n",
      "415/415 [==============================] - 0s 27us/step - loss: 0.7690 - acc: 0.5398 - val_loss: 0.6657 - val_acc: 0.5962\n",
      "Epoch 11/17\n",
      "415/415 [==============================] - 0s 28us/step - loss: 0.7625 - acc: 0.5084 - val_loss: 0.6725 - val_acc: 0.5481\n",
      "Epoch 12/17\n",
      "415/415 [==============================] - 0s 31us/step - loss: 0.7418 - acc: 0.4819 - val_loss: 0.6624 - val_acc: 0.6058\n",
      "Epoch 13/17\n",
      "415/415 [==============================] - 0s 30us/step - loss: 0.7470 - acc: 0.4988 - val_loss: 0.6610 - val_acc: 0.6250\n",
      "Epoch 14/17\n",
      "415/415 [==============================] - 0s 47us/step - loss: 0.7569 - acc: 0.4627 - val_loss: 0.8325 - val_acc: 0.5288\n",
      "Epoch 15/17\n",
      "415/415 [==============================] - 0s 26us/step - loss: 0.7927 - acc: 0.5108 - val_loss: 0.7041 - val_acc: 0.5385\n",
      "Epoch 16/17\n",
      "415/415 [==============================] - 0s 36us/step - loss: 0.7869 - acc: 0.4988 - val_loss: 0.6688 - val_acc: 0.5769\n",
      "Epoch 17/17\n",
      "415/415 [==============================] - 0s 32us/step - loss: 0.7484 - acc: 0.5181 - val_loss: 0.6685 - val_acc: 0.5865\n"
     ]
    }
   ],
   "source": [
    "import tensorflow as tf\n",
    "from keras import models\n",
    "from keras import layers\n",
    "from keras.layers import Dropout\n",
    "model = models.Sequential()\n",
    "model.add(layers.Dense(32, activation='relu', input_shape=(133,)))\n",
    "model.add(layers.Dense(32, activation='relu'))\n",
    "model.add(layers.Dense(32, activation='relu'))\n",
    "model.add(layers.Dense(1, activation='sigmoid'))\n",
    "\n",
    "from keras import optimizers\n",
    "\n",
    "model.compile(optimizer='adam', loss='binary_crossentropy', metrics=['accuracy'])\n",
    "\n",
    "history = model.fit(x_train,y_train,epochs=17,batch_size=100,validation_data=(x_val, y_val))"
   ]
  },
  {
   "cell_type": "code",
   "execution_count": 49,
   "metadata": {
    "colab": {
     "base_uri": "https://localhost:8080/",
     "height": 295
    },
    "colab_type": "code",
    "executionInfo": {
     "elapsed": 1607,
     "status": "ok",
     "timestamp": 1585411276406,
     "user": {
      "displayName": "Sai Krishna Mendu",
      "photoUrl": "https://lh3.googleusercontent.com/a-/AOh14GjqF3FT8ynrVqiqUo6NozBvQ0dx-_Ym9X6vVD67BA=s64",
      "userId": "16653332979938855669"
     },
     "user_tz": -330
    },
    "id": "zX3wXU2aRuHC",
    "outputId": "e15c71c0-1ff6-4e43-d604-b39a002e07b3"
   },
   "outputs": [
    {
     "data": {
      "image/png": "[encoded data removed]",
      "text/plain": [
       "<Figure size 432x288 with 1 Axes>"
      ]
     },
     "metadata": {
      "tags": []
     },
     "output_type": "display_data"
    }
   ],
   "source": [
    "import matplotlib.pyplot as plt\n",
    "loss = history.history['loss']\n",
    "val_loss = history.history['val_loss']\n",
    "epochs = range(1, len(loss) + 1)\n",
    "plt.plot(epochs, loss, 'bo', label='Training loss')\n",
    "plt.plot(epochs, val_loss, 'b', label='Validation loss')\n",
    "plt.title('Training and validation loss')\n",
    "plt.xlabel('Epochs')\n",
    "plt.ylabel('Loss')\n",
    "plt.legend()\n",
    "plt.show()"
   ]
  },
  {
   "cell_type": "code",
   "execution_count": 9,
   "metadata": {
    "colab": {
     "base_uri": "https://localhost:8080/",
     "height": 34
    },
    "colab_type": "code",
    "executionInfo": {
     "elapsed": 5123,
     "status": "ok",
     "timestamp": 1585409614230,
     "user": {
      "displayName": "Sai Krishna Mendu",
      "photoUrl": "https://lh3.googleusercontent.com/a-/AOh14GjqF3FT8ynrVqiqUo6NozBvQ0dx-_Ym9X6vVD67BA=s64",
      "userId": "16653332979938855669"
     },
     "user_tz": -330
    },
    "id": "3l1YJIg2S8jy",
    "outputId": "fd91893a-54e4-4327-8f9f-097ecd2f63d0"
   },
   "outputs": [
    {
     "data": {
      "text/plain": [
       "0.4423076923076923"
      ]
     },
     "execution_count": 9,
     "metadata": {
      "tags": []
     },
     "output_type": "execute_result"
    }
   ],
   "source": [
    "import xgboost as xgb\n",
    "from xgboost import XGBClassifier\n",
    "model=XGBClassifier(base_score=0.5, booster='gbtree', colsample_bylevel=1,\n",
    "              colsample_bynode=1, colsample_bytree=1, gamma=0,\n",
    "              learning_rate=0.05, max_delta_step=0, max_depth=5,\n",
    "              min_child_weight=1, missing=None, n_estimators=100, n_jobs=1,\n",
    "              nthread=None, objective='binary:logistic', random_state=0,\n",
    "              reg_alpha=0, reg_lambda=1, scale_pos_weight=1, seed=None,\n",
    "              silent=None, subsample=1, verbosity=1)\n",
    "model.fit(x_train, y_train)\n",
    "y_pred=model.predict(x_val)\n",
    "from sklearn.metrics import accuracy_score\n",
    "accuracy_score(y_val, y_pred)\n"
   ]
  },
  {
   "cell_type": "code",
   "execution_count": 0,
   "metadata": {
    "colab": {},
    "colab_type": "code",
    "id": "zx_Cu9EEceNK"
   },
   "outputs": [],
   "source": [
    "param = {}\n",
    "param['booster'] = 'gbtree'\n",
    "param['objective'] = 'binary:logistic'\n",
    "param[\"eval_metric\"] = \"error\"\n",
    "param['eta'] = 0.3\n",
    "param['gamma'] = 0\n",
    "param['max_depth'] = 6\n",
    "param['min_child_weight']=1\n",
    "param['max_delta_step'] = 0\n",
    "param['subsample']= 1\n",
    "param['colsample_bytree']=1\n",
    "param['silent'] = 1\n",
    "param['seed'] = 0\n",
    "param['base_score'] = 0.5"
   ]
  },
  {
   "cell_type": "code",
   "execution_count": 0,
   "metadata": {
    "colab": {},
    "colab_type": "code",
    "id": "0JMDMClkd3gN"
   },
   "outputs": [],
   "source": [
    "def fit_model(X, y):\n",
    "    \"\"\" Performs grid search over the 'max_depth' parameter for a \n",
    "        decision tree regressor trained on the input data [X, y]. \"\"\"\n",
    "    \n",
    "    # Create cross-validation sets from the training data\n",
    "    from sklearn.model_selection import ShuffleSplit\n",
    "\n",
    "    cv_sets = ShuffleSplit(n_splits = 10, test_size = 0.20, random_state = 0)\n",
    "\n",
    "    # TODO: Create a decision tree regressor object\n",
    "    regressor1=xgb.XGBClassifier()\n",
    "\n",
    "    # TODO: Create a dictionary for the parameter 'max_depth' with a range from 1 to 10\n",
    "    params = {'learning_rate':[0.01,0.05,0.1],'max_depth':[3,5,7,9]}\n",
    "    \n",
    "    # TODO: Transform 'performance_metric' into a scoring function using 'make_scorer' \n",
    "    from sklearn.metrics import accuracy_score\n",
    "    from sklearn.metrics import make_scorer\n",
    "    scoring_fnc = make_scorer(accuracy_score, greater_is_better=True)\n",
    "\n",
    "\n",
    "    # TODO: Create the grid search cv object --> GridSearchCV()\n",
    "    # Make sure to include the right parameters in the object:\n",
    "    # (estimator, param_grid, scoring, cv) which have values 'regressor', 'params', 'scoring_fnc', and 'cv_sets' respectively.\n",
    "    from sklearn.model_selection import GridSearchCV\n",
    "    grid = GridSearchCV(estimator=regressor1,param_grid=params,scoring=scoring_fnc,cv=cv_sets)\n",
    "\n",
    "    # Fit the grid search object to the data to compute the optimal model\n",
    "    grid = grid.fit(X, y)\n",
    "\n",
    "    # Return the optimal model after fitting the data\n",
    "    return grid.best_estimator_\n",
    "\n"
   ]
  },
  {
   "cell_type": "code",
   "execution_count": 12,
   "metadata": {
    "colab": {
     "base_uri": "https://localhost:8080/",
     "height": 134
    },
    "colab_type": "code",
    "executionInfo": {
     "elapsed": 39356,
     "status": "ok",
     "timestamp": 1585409648559,
     "user": {
      "displayName": "Sai Krishna Mendu",
      "photoUrl": "https://lh3.googleusercontent.com/a-/AOh14GjqF3FT8ynrVqiqUo6NozBvQ0dx-_Ym9X6vVD67BA=s64",
      "userId": "16653332979938855669"
     },
     "user_tz": -330
    },
    "id": "cDxM-p0xegPL",
    "outputId": "4b9d23e5-fbf5-4ccc-baad-3db99cf7b6ef"
   },
   "outputs": [
    {
     "data": {
      "text/plain": [
       "XGBClassifier(base_score=0.5, booster='gbtree', colsample_bylevel=1,\n",
       "              colsample_bynode=1, colsample_bytree=1, gamma=0,\n",
       "              learning_rate=0.05, max_delta_step=0, max_depth=7,\n",
       "              min_child_weight=1, missing=None, n_estimators=100, n_jobs=1,\n",
       "              nthread=None, objective='binary:logistic', random_state=0,\n",
       "              reg_alpha=0, reg_lambda=1, scale_pos_weight=1, seed=None,\n",
       "              silent=None, subsample=1, verbosity=1)"
      ]
     },
     "execution_count": 12,
     "metadata": {
      "tags": []
     },
     "output_type": "execute_result"
    }
   ],
   "source": [
    "fit_model(final.drop(columns=['winner']).values,final['winner'].values)"
   ]
  },
  {
   "cell_type": "code",
   "execution_count": 0,
   "metadata": {
    "colab": {},
    "colab_type": "code",
    "id": "NGQ9YpRdxUe4"
   },
   "outputs": [],
   "source": []
  }
 ],
 "metadata": {
  "colab": {
   "authorship_tag": "ABX9TyMol7nCWmNe+Gu4Jp/aKAhk",
   "collapsed_sections": [],
   "name": "ipl_prediction.ipynb",
   "provenance": []
  },
  "kernelspec": {
   "display_name": "Python 3",
   "language": "python",
   "name": "python3"
  },
  "language_info": {
   "codemirror_mode": {
    "name": "ipython",
    "version": 3
   },
   "file_extension": ".py",
   "mimetype": "text/x-python",
   "name": "python",
   "nbconvert_exporter": "python",
   "pygments_lexer": "ipython3",
   "version": "3.7.4"
  }
 },
 "nbformat": 4,
 "nbformat_minor": 1
}
