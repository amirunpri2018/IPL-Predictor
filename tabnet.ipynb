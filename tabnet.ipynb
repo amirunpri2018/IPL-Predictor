{
  "nbformat": 4,
  "nbformat_minor": 0,
  "metadata": {
    "colab": {
      "name": "tabnet.ipynb",
      "provenance": [],
      "collapsed_sections": [],
      "authorship_tag": "ABX9TyNFzZy+vrhWPdeMPxM5SBMn",
      "include_colab_link": true
    },
    "kernelspec": {
      "name": "python3",
      "display_name": "Python 3"
    }
  },
  "cells": [
    {
      "cell_type": "markdown",
      "metadata": {
        "id": "view-in-github",
        "colab_type": "text"
      },
      "source": [
        "<a href=\"https://colab.research.google.com/github/themendu/IPL-Predictor/blob/master/tabnet.ipynb\" target=\"_parent\"><img src=\"https://colab.research.google.com/assets/colab-badge.svg\" alt=\"Open In Colab\"/></a>"
      ]
    },
    {
      "cell_type": "code",
      "metadata": {
        "id": "Qrw8AKQjGwES",
        "colab_type": "code",
        "colab": {
          "base_uri": "https://localhost:8080/",
          "height": 202
        },
        "outputId": "3d6becad-32a4-4e5b-e3ba-58b0bf4bf4ce"
      },
      "source": [
        "!pip install pytorch-tabnet\n"
      ],
      "execution_count": 1,
      "outputs": [
        {
          "output_type": "stream",
          "text": [
            "Collecting pytorch-tabnet\n",
            "  Downloading https://files.pythonhosted.org/packages/6e/ee/1670a8072b03a42b16db79e45f7705c3f155c35f9ae83610b46c6d07a4e4/pytorch_tabnet-1.2.0-py3-none-any.whl\n",
            "Requirement already satisfied: tqdm<5.0,>=4.36 in /usr/local/lib/python3.6/dist-packages (from pytorch-tabnet) (4.41.1)\n",
            "Requirement already satisfied: scipy>1.4 in /usr/local/lib/python3.6/dist-packages (from pytorch-tabnet) (1.4.1)\n",
            "Requirement already satisfied: torch<2.0,>=1.2 in /usr/local/lib/python3.6/dist-packages (from pytorch-tabnet) (1.6.0+cu101)\n",
            "Requirement already satisfied: scikit_learn>0.21 in /usr/local/lib/python3.6/dist-packages (from pytorch-tabnet) (0.22.2.post1)\n",
            "Requirement already satisfied: numpy<2.0,>=1.17 in /usr/local/lib/python3.6/dist-packages (from pytorch-tabnet) (1.18.5)\n",
            "Requirement already satisfied: future in /usr/local/lib/python3.6/dist-packages (from torch<2.0,>=1.2->pytorch-tabnet) (0.16.0)\n",
            "Requirement already satisfied: joblib>=0.11 in /usr/local/lib/python3.6/dist-packages (from scikit_learn>0.21->pytorch-tabnet) (0.16.0)\n",
            "Installing collected packages: pytorch-tabnet\n",
            "Successfully installed pytorch-tabnet-1.2.0\n"
          ],
          "name": "stdout"
        }
      ]
    },
    {
      "cell_type": "code",
      "metadata": {
        "id": "y4P7EqNiHC2O",
        "colab_type": "code",
        "colab": {}
      },
      "source": [
        "import pandas as pd\n",
        "import numpy as np"
      ],
      "execution_count": 2,
      "outputs": []
    },
    {
      "cell_type": "code",
      "metadata": {
        "id": "eBrDZnQwHHgO",
        "colab_type": "code",
        "colab": {
          "base_uri": "https://localhost:8080/",
          "height": 121
        },
        "outputId": "252f42f5-7a1b-4b7b-c040-87f53fb6bc21"
      },
      "source": [
        "from google.colab import drive\n",
        "drive.mount('/content/drive')"
      ],
      "execution_count": 3,
      "outputs": [
        {
          "output_type": "stream",
          "text": [
            "Go to this URL in a browser: https://accounts.google.com/o/oauth2/auth?client_id=947318989803-6bn6qk8qdgf4n4g3pfee6491hc0brc4i.apps.googleusercontent.com&redirect_uri=urn%3aietf%3awg%3aoauth%3a2.0%3aoob&scope=email%20https%3a%2f%2fwww.googleapis.com%2fauth%2fdocs.test%20https%3a%2f%2fwww.googleapis.com%2fauth%2fdrive%20https%3a%2f%2fwww.googleapis.com%2fauth%2fdrive.photos.readonly%20https%3a%2f%2fwww.googleapis.com%2fauth%2fpeopleapi.readonly&response_type=code\n",
            "\n",
            "Enter your authorization code:\n",
            "··········\n",
            "Mounted at /content/drive\n"
          ],
          "name": "stdout"
        }
      ]
    },
    {
      "cell_type": "code",
      "metadata": {
        "id": "jTG9-_KEHHjQ",
        "colab_type": "code",
        "colab": {}
      },
      "source": [
        "final=pd.read_csv('/content/drive/My Drive/changed_data.csv')"
      ],
      "execution_count": 4,
      "outputs": []
    },
    {
      "cell_type": "code",
      "metadata": {
        "id": "ShIO2dnDHHl6",
        "colab_type": "code",
        "colab": {
          "base_uri": "https://localhost:8080/",
          "height": 70
        },
        "outputId": "13339f7c-0b3c-4a0a-f122-bbb99e32788d"
      },
      "source": [
        "import matplotlib.pyplot as plt\n",
        "import seaborn as sns\n",
        "import torch\n",
        "from pytorch_tabnet.tab_model import TabNetClassifier\n",
        "\n",
        "from sklearn.model_selection import KFold"
      ],
      "execution_count": 5,
      "outputs": [
        {
          "output_type": "stream",
          "text": [
            "/usr/local/lib/python3.6/dist-packages/statsmodels/tools/_testing.py:19: FutureWarning: pandas.util.testing is deprecated. Use the functions in the public API at pandas.testing instead.\n",
            "  import pandas.util.testing as tm\n"
          ],
          "name": "stderr"
        }
      ]
    },
    {
      "cell_type": "code",
      "metadata": {
        "id": "nwI3S-0VHHob",
        "colab_type": "code",
        "colab": {}
      },
      "source": [
        "final.drop(columns=['Unnamed: 0'],inplace=True)"
      ],
      "execution_count": 6,
      "outputs": []
    },
    {
      "cell_type": "code",
      "metadata": {
        "id": "GpvQriPj2_HD",
        "colab_type": "code",
        "colab": {
          "base_uri": "https://localhost:8080/",
          "height": 34
        },
        "outputId": "b7297cfc-e0a2-4e62-f5fb-f8f66e6fe7f4"
      },
      "source": [
        "final.shape"
      ],
      "execution_count": 24,
      "outputs": [
        {
          "output_type": "execute_result",
          "data": {
            "text/plain": [
              "(519, 72)"
            ]
          },
          "metadata": {
            "tags": []
          },
          "execution_count": 24
        }
      ]
    },
    {
      "cell_type": "code",
      "metadata": {
        "id": "87qHtDpTHHq_",
        "colab_type": "code",
        "colab": {}
      },
      "source": [
        "from sklearn.model_selection import train_test_split\n",
        "def datasplitter(data):\n",
        "    train_data, val_data = train_test_split(data, test_size = 0.17, random_state = 9)\n",
        "    y_train = train_data['winner'].values\n",
        "    y_val = val_data['winner'].values\n",
        "    x_train = train_data.drop(['winner'], axis = 1).values\n",
        "    x_val = val_data.drop(['winner'], axis = 1).values\n",
        "    return y_train,y_val,x_train,x_val\n",
        "\n",
        "\n",
        "y_train,y_val,x_train,x_val=datasplitter(final)"
      ],
      "execution_count": 14,
      "outputs": []
    },
    {
      "cell_type": "code",
      "metadata": {
        "id": "TcthmMi_HyCt",
        "colab_type": "code",
        "colab": {
          "base_uri": "https://localhost:8080/",
          "height": 34
        },
        "outputId": "aab4ae1c-83ce-404a-ada4-8e817ffb2ccb"
      },
      "source": [
        "x_train.shape"
      ],
      "execution_count": 15,
      "outputs": [
        {
          "output_type": "execute_result",
          "data": {
            "text/plain": [
              "(430, 71)"
            ]
          },
          "metadata": {
            "tags": []
          },
          "execution_count": 15
        }
      ]
    },
    {
      "cell_type": "code",
      "metadata": {
        "id": "P-z3mr1rHyVN",
        "colab_type": "code",
        "colab": {
          "base_uri": "https://localhost:8080/",
          "height": 34
        },
        "outputId": "229ab120-20be-449c-f652-d1005cb3dfe8"
      },
      "source": [
        "y_train.shape"
      ],
      "execution_count": 16,
      "outputs": [
        {
          "output_type": "execute_result",
          "data": {
            "text/plain": [
              "(430,)"
            ]
          },
          "metadata": {
            "tags": []
          },
          "execution_count": 16
        }
      ]
    },
    {
      "cell_type": "code",
      "metadata": {
        "id": "NtfRzDWgHyX2",
        "colab_type": "code",
        "colab": {
          "base_uri": "https://localhost:8080/",
          "height": 34
        },
        "outputId": "a6a0229b-77ea-47e2-ff2b-b79fd59c4b0b"
      },
      "source": [
        "from pytorch_tabnet.tab_model import TabNetClassifier\n",
        "\n",
        "model = TabNetClassifier(n_d=16,#larger,then overfit\n",
        "                       n_a=16,\n",
        "                       n_steps=4,\n",
        "                       gamma=1.3,\n",
        "                       n_independent=2,\n",
        "                       n_shared=2,\n",
        "                       device_name='cpu',\n",
        "                       optimizer_params=dict(lr=1e-3),\n",
        "                       optimizer_fn=torch.optim.Adam)"
      ],
      "execution_count": 17,
      "outputs": [
        {
          "output_type": "stream",
          "text": [
            "Device used : cpu\n"
          ],
          "name": "stdout"
        }
      ]
    },
    {
      "cell_type": "code",
      "metadata": {
        "id": "fNo-jmtpHybY",
        "colab_type": "code",
        "colab": {
          "base_uri": "https://localhost:8080/",
          "height": 1000
        },
        "outputId": "c79414a4-6af5-4b48-c9ea-4be4f416eb9b"
      },
      "source": [
        "model.fit(X_train = x_train,\n",
        "             y_train = y_train,\n",
        "             X_valid = x_val,\n",
        "             y_valid = y_val,\n",
        "             max_epochs = 100,\n",
        "             batch_size=32,\n",
        "             drop_last=False,\n",
        "             patience =50)"
      ],
      "execution_count": 21,
      "outputs": [
        {
          "output_type": "stream",
          "text": [
            "Will train until validation stopping metric hasn't improved in 50 rounds.\n",
            "---------------------------------------\n",
            "| EPOCH |  train  |   valid  | total time (s)\n",
            "| 1     | 0.50102 |  0.46512 |   0.5       \n",
            "| 2     | 0.53344 |  0.52401 |   1.0       \n",
            "| 3     | 0.50866 |  0.44742 |   1.6       \n",
            "| 4     | 0.54633 |  0.52022 |   2.1       \n",
            "| 5     | 0.53232 |  0.52022 |   2.6       \n",
            "| 6     | 0.51271 |  0.52528 |   3.1       \n",
            "| 7     | 0.51654 |  0.51946 |   3.6       \n",
            "| 8     | 0.49002 |  0.52351 |   4.2       \n",
            "| 9     | 0.52961 |  0.51744 |   4.7       \n",
            "| 10    | 0.54215 |  0.50961 |   5.2       \n",
            "| 11    | 0.48122 |  0.50531 |   5.7       \n",
            "| 12    | 0.52307 |  0.49823 |   6.2       \n",
            "| 13    | 0.50494 |  0.48913 |   6.7       \n",
            "| 14    | 0.58958 |  0.48155 |   7.2       \n",
            "| 15    | 0.56647 |  0.41709 |   7.8       \n",
            "| 16    | 0.53995 |  0.50784 |   8.3       \n",
            "| 17    | 0.57263 |  0.46562 |   8.8       \n",
            "| 18    | 0.49182 |  0.52098 |   9.3       \n",
            "| 19    | 0.51623 |  0.48458 |   9.8       \n",
            "| 20    | 0.55124 |  0.44894 |   10.3      \n",
            "| 21    | 0.53097 |  0.50152 |   10.9      \n",
            "| 22    | 0.48956 |  0.41633 |   11.4      \n",
            "| 23    | 0.50586 |  0.37664 |   11.9      \n",
            "| 24    | 0.56458 |  0.38903 |   12.4      \n",
            "| 25    | 0.54332 |  0.39029 |   12.9      \n",
            "| 26    | 0.52202 |  0.40925 |   13.5      \n",
            "| 27    | 0.53674 |  0.43124 |   14.0      \n",
            "| 28    | 0.52288 |  0.39863 |   14.5      \n",
            "| 29    | 0.50545 |  0.41507 |   15.0      \n",
            "| 30    | 0.50435 |  0.51239 |   15.6      \n",
            "| 31    | 0.51619 |  0.47472 |   16.1      \n",
            "| 32    | 0.54086 |  0.47169 |   16.6      \n",
            "| 33    | 0.54915 |  0.49141 |   17.1      \n",
            "| 34    | 0.52979 |  0.42164 |   17.7      \n",
            "| 35    | 0.53425 |  0.45602 |   18.2      \n",
            "| 36    | 0.53058 |  0.47068 |   18.7      \n",
            "| 37    | 0.60815 |  0.49949 |   19.2      \n",
            "| 38    | 0.57248 |  0.47371 |   19.7      \n",
            "| 39    | 0.55782 |  0.51618 |   20.2      \n",
            "| 40    | 0.54334 |  0.53438 |   20.8      \n",
            "| 41    | 0.54746 |  0.52932 |   21.3      \n",
            "| 42    | 0.55769 |  0.52983 |   21.8      \n",
            "| 43    | 0.57393 |  0.49596 |   22.3      \n",
            "| 44    | 0.59347 |  0.49697 |   22.8      \n",
            "| 45    | 0.57483 |  0.50303 |   23.4      \n",
            "| 46    | 0.53650 |  0.47674 |   23.9      \n",
            "| 47    | 0.54484 |  0.50556 |   24.4      \n",
            "| 48    | 0.56093 |  0.41304 |   24.9      \n",
            "| 49    | 0.56106 |  0.40394 |   25.4      \n",
            "| 50    | 0.60560 |  0.48635 |   25.9      \n",
            "| 51    | 0.51049 |  0.53792 |   26.5      \n",
            "| 52    | 0.55272 |  0.54348 |   27.0      \n",
            "| 53    | 0.58676 |  0.47624 |   27.5      \n",
            "| 54    | 0.60494 |  0.46208 |   28.0      \n",
            "| 55    | 0.59878 |  0.52781 |   28.5      \n",
            "| 56    | 0.50496 |  0.52477 |   29.0      \n",
            "| 57    | 0.55765 |  0.50758 |   29.6      \n",
            "| 58    | 0.59770 |  0.51416 |   30.1      \n",
            "| 59    | 0.54559 |  0.57583 |   30.6      \n",
            "| 60    | 0.54750 |  0.57027 |   31.1      \n",
            "| 61    | 0.58196 |  0.56218 |   31.6      \n",
            "| 62    | 0.57763 |  0.49596 |   32.1      \n",
            "| 63    | 0.58608 |  0.53640 |   32.7      \n",
            "| 64    | 0.56924 |  0.56623 |   33.2      \n",
            "| 65    | 0.56449 |  0.61072 |   33.7      \n",
            "| 66    | 0.58361 |  0.55966 |   34.2      \n",
            "| 67    | 0.60258 |  0.55460 |   34.8      \n",
            "| 68    | 0.56192 |  0.57128 |   35.3      \n",
            "| 69    | 0.61040 |  0.57634 |   35.8      \n",
            "| 70    | 0.62122 |  0.59909 |   36.3      \n",
            "| 71    | 0.56222 |  0.52528 |   36.8      \n",
            "| 72    | 0.61607 |  0.53943 |   37.4      \n",
            "| 73    | 0.59616 |  0.52730 |   37.9      \n",
            "| 74    | 0.57809 |  0.48837 |   38.4      \n",
            "| 75    | 0.58003 |  0.47573 |   38.9      \n",
            "| 76    | 0.54785 |  0.49798 |   39.4      \n",
            "| 77    | 0.57831 |  0.51921 |   40.0      \n",
            "| 78    | 0.59283 |  0.52022 |   40.5      \n",
            "| 79    | 0.58438 |  0.52174 |   41.0      \n",
            "| 80    | 0.58881 |  0.50506 |   41.5      \n",
            "| 81    | 0.61370 |  0.50303 |   42.0      \n",
            "| 82    | 0.57492 |  0.49343 |   42.6      \n",
            "| 83    | 0.62463 |  0.53185 |   43.1      \n",
            "| 84    | 0.64145 |  0.46309 |   43.6      \n",
            "| 85    | 0.58328 |  0.57179 |   44.1      \n",
            "| 86    | 0.58755 |  0.53387 |   44.7      \n",
            "| 87    | 0.57996 |  0.54651 |   45.2      \n",
            "| 88    | 0.56277 |  0.50657 |   45.7      \n",
            "| 89    | 0.62895 |  0.52578 |   46.2      \n",
            "| 90    | 0.62411 |  0.58038 |   46.7      \n",
            "| 91    | 0.57237 |  0.54146 |   47.2      \n",
            "| 92    | 0.65192 |  0.50758 |   47.8      \n",
            "| 93    | 0.61874 |  0.50657 |   48.3      \n",
            "| 94    | 0.61141 |  0.51972 |   48.8      \n",
            "| 95    | 0.63872 |  0.50506 |   49.3      \n",
            "| 96    | 0.57475 |  0.53134 |   49.9      \n",
            "| 97    | 0.59966 |  0.56623 |   50.4      \n",
            "| 98    | 0.56163 |  0.53842 |   50.9      \n",
            "| 99    | 0.59127 |  0.51871 |   51.4      \n",
            "| 100   | 0.59587 |  0.53337 |   51.9      \n",
            "Training done in 51.927 seconds.\n",
            "---------------------------------------\n"
          ],
          "name": "stdout"
        }
      ]
    },
    {
      "cell_type": "code",
      "metadata": {
        "id": "mWrg7C_EHyf_",
        "colab_type": "code",
        "colab": {
          "base_uri": "https://localhost:8080/",
          "height": 34
        },
        "outputId": "8a29a1ec-4d56-489b-8ffa-9072015ad819"
      },
      "source": [
        "from sklearn.metrics import accuracy_score\n",
        "\n",
        "y_oof = model.predict(x_train)\n",
        "\n",
        "print(accuracy_score(y_train,y_oof))"
      ],
      "execution_count": 22,
      "outputs": [
        {
          "output_type": "stream",
          "text": [
            "0.6046511627906976\n"
          ],
          "name": "stdout"
        }
      ]
    },
    {
      "cell_type": "code",
      "metadata": {
        "id": "XTqENatTHyjB",
        "colab_type": "code",
        "colab": {
          "base_uri": "https://localhost:8080/",
          "height": 34
        },
        "outputId": "94208c9e-db7d-4f89-c71c-d81308b0274e"
      },
      "source": [
        "y_oof = model.predict(x_val)\n",
        "\n",
        "print(accuracy_score(y_val,y_oof))"
      ],
      "execution_count": 23,
      "outputs": [
        {
          "output_type": "stream",
          "text": [
            "0.550561797752809\n"
          ],
          "name": "stdout"
        }
      ]
    },
    {
      "cell_type": "code",
      "metadata": {
        "id": "em7isI5tHylj",
        "colab_type": "code",
        "colab": {}
      },
      "source": [
        ""
      ],
      "execution_count": null,
      "outputs": []
    },
    {
      "cell_type": "code",
      "metadata": {
        "id": "Lgrw_BKVHyq-",
        "colab_type": "code",
        "colab": {}
      },
      "source": [
        ""
      ],
      "execution_count": null,
      "outputs": []
    },
    {
      "cell_type": "code",
      "metadata": {
        "id": "ekbputB1HypO",
        "colab_type": "code",
        "colab": {}
      },
      "source": [
        ""
      ],
      "execution_count": null,
      "outputs": []
    },
    {
      "cell_type": "code",
      "metadata": {
        "id": "CPiPLbKjHyea",
        "colab_type": "code",
        "colab": {}
      },
      "source": [
        ""
      ],
      "execution_count": null,
      "outputs": []
    }
  ]
}